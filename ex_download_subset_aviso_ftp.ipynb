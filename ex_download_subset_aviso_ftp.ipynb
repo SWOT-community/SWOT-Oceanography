{
 "cells": [
  {
   "cell_type": "markdown",
   "metadata": {},
   "source": [
    "![](https://img.shields.io/badge/CNES_AVISO-Contribution-%20?color=grey&labelColor=blue)"
   ]
  },
  {
   "cell_type": "markdown",
   "metadata": {},
   "source": [
    "# Subset SWOT data from AVISO's FTP Server\n",
    "This notebook explains how to select and retrieve SWOT LR half orbits from AVISO's FTP Server, and subset data with a geographical area.\n",
    "\n",
    "Files available through FTP follow the same file tree as in the THREDDS Data Server.\n",
    "\n",
    "| Data | FTP starting point | Browsing files URL |\n",
    "| --- | --- | --- |\n",
    "| Swot LR L2 | */swot_products/l2_karin/l2_lr_ssh* | https://tds.aviso.altimetry.fr/thredds/catalog/dataset-l2-swot-karin-lr-ssh-validated/catalog.html |\n",
    "| Swot LR L3 | */swot_products/l3_karin_nadir/l3_lr_ssh* | https://tds.aviso.altimetry.fr/thredds/catalog/dataset-l3-swot-karin-nadir-validated/l3_lr_ssh/catalog.html |"
   ]
  },
  {
   "cell_type": "markdown",
   "metadata": {},
   "source": [
    "<div class=\"alert alert-warning\"><b>Warning</b><p>\n",
    " To subset **L2 LR SSH Unsmoothed** data, which is stored as grouped Netcdf files, please consult this [tutorial](https://swot-community.github.io/SWOT-galleries/SWOT-Oceanography/ex_subset_swot_l2_unsmoothed_aviso_ftp.html).\n",
    "</p></div>"
   ]
  },
  {
   "cell_type": "markdown",
   "metadata": {},
   "source": [
    "## Tutorial Objectives\n",
    "* Download files through FTP, with selection by cycle and pass numbers\n",
    "* Subset data with geographical selection"
   ]
  },
  {
   "cell_type": "markdown",
   "metadata": {},
   "source": [
    "## Import + code\n",
    "\n"
   ]
  },
  {
   "cell_type": "code",
   "execution_count": null,
   "metadata": {},
   "outputs": [],
   "source": [
    "import warnings\n",
    "warnings.filterwarnings('ignore')"
   ]
  },
  {
   "cell_type": "code",
   "execution_count": null,
   "metadata": {
    "collapsed": false,
    "jupyter": {
     "outputs_hidden": false
    }
   },
   "outputs": [],
   "source": [
    "import os\n",
    "from getpass import getpass\n",
    "import ftplib\n",
    "import xarray as xr"
   ]
  },
  {
   "cell_type": "code",
   "execution_count": null,
   "metadata": {},
   "outputs": [],
   "source": [
    "import cartopy.crs as ccrs\n",
    "import matplotlib.pyplot as plt"
   ]
  },
  {
   "cell_type": "code",
   "execution_count": null,
   "metadata": {},
   "outputs": [],
   "source": [
    "def _download_file(ftp:str, filename:str, target_directory:str):\n",
    "    print(f\"Download file: {filename}\")\n",
    "    try:\n",
    "        local_filepath = os.path.join(target_directory, filename)\n",
    "        with open(local_filepath, 'wb') as file:\n",
    "            ftp.retrbinary('RETR %s' % filename, file.write)\n",
    "            return local_filepath\n",
    "    except Exception as e:\n",
    "        print(f\"Error downloading {filename}: {e}\")\n",
    "        \n",
    "def _get_last_version_filename(filenames):\n",
    "    versions = {int(f[-5:-3]): f for f in filenames}\n",
    "    return versions[max(versions.keys())]\n",
    "\n",
    "def _select_filename(filenames, only_last):\n",
    "    if not only_last: return filenames\n",
    "    return [_get_last_version_filename(filenames)]\n",
    "\n",
    "def ftp_download_files(ftp_path, level, variant, cycle_numbers, half_orbits, output_dir, only_last=True):\n",
    "    \"\"\" Download half orbits files from AVISO's FTP Server.\n",
    "    Args:\n",
    "        ftp_path\n",
    "            path of the FTP fileset\n",
    "        level\n",
    "            L2 or L3\n",
    "        variant\n",
    "            Basic, Expert, WindWave or Unsmoothed\n",
    "        cycle_numbers\n",
    "            list of cycles numbers\n",
    "        half_orbits\n",
    "            list of passes numbers\n",
    "        output_dir\n",
    "            output directory\n",
    "        only_last\n",
    "            if True (Default), downloads only the last version of a file if several versions exist. \n",
    "            Downloads all versions otherwise.\n",
    "    Returns:\n",
    "        The list of local files.\n",
    "    \"\"\"\n",
    "    # Set up FTP server details\n",
    "    ftpAVISO = 'ftp-access.aviso.altimetry.fr'\n",
    "    try:\n",
    "        # Logging into FTP server using provided credentials\n",
    "        with ftplib.FTP(ftpAVISO) as ftp:\n",
    "            ftp.login(username, password)\n",
    "            ftp.cwd(ftp_path)\n",
    "            print(f\"Connection Established {ftp.getwelcome()}\")\n",
    "            downloaded_files = []\n",
    "            \n",
    "            for cycle in cycle_numbers:\n",
    "                cycle_str = '{:03d}'.format(cycle)\n",
    "                cycle_dir = f'cycle_{cycle_str}'\n",
    "                print(ftp_path+cycle_dir)\n",
    "                ftp.cwd(cycle_dir)\n",
    "    \n",
    "                for half_orbit in half_orbits:\n",
    "                    half_orbit_str = '{:03d}'.format(half_orbit)\n",
    "                    pattern = f'SWOT_{level}_LR_SSH_{variant}_{cycle_str}_{half_orbit_str}'\n",
    "                    filenames = []\n",
    "                    try:\n",
    "                        filenames = ftp.nlst(f'{pattern}_*')\n",
    "                        # No version in L3 filenames\n",
    "                        if level==\"L3\": only_last=False\n",
    "                        filenames = _select_filename(filenames, only_last)\n",
    "                    except Exception as e:\n",
    "                        print(f\"No pass {half_orbit}\")\n",
    "                        \n",
    "                    local_files = [_download_file(ftp, f, output_dir) for f in filenames]\n",
    "                    downloaded_files += local_files\n",
    "                \n",
    "                ftp.cwd('../')\n",
    "                \n",
    "            return downloaded_files\n",
    "            \n",
    "    except ftplib.error_perm as e:\n",
    "        print(f\"FTP error: {e}\")\n",
    "    except Exception as e:\n",
    "        print(f\"Error: {e}\")\n",
    "\n",
    "def _normalized_ds(ds, lon_min, lon_max):\n",
    "    lon = ds.longitude.values\n",
    "    lon[lon < lon_min] += 360\n",
    "    lon[lon > lon_max] -= 360\n",
    "    ds.longitude.values = lon\n",
    "    return ds\n",
    "    \n",
    "def _subset_ds(file, variables, lon_range, lat_range, output_dir):\n",
    "    print(f\"Subset dataset: {file}\")\n",
    "    swot_ds = xr.open_dataset(file)\n",
    "    swot_ds = swot_ds[variables]\n",
    "    swot_ds.load()\n",
    "    \n",
    "    ds = _normalized_ds(swot_ds.copy(), -180, 180)\n",
    "\n",
    "    mask = (\n",
    "        (ds.longitude <= lon_range[1])\n",
    "        & (ds.longitude >= lon_range[0])\n",
    "        & (ds.latitude <= lat_range[1])\n",
    "        & (ds.latitude >= lat_range[0])\n",
    "    ).compute()\n",
    "    \n",
    "    swot_ds_area = swot_ds.where(mask, drop=True)\n",
    "\n",
    "    if swot_ds_area.sizes['num_lines'] == 0:\n",
    "        print(f'Dataset {file} not matching geographical area.')\n",
    "        return None\n",
    "\n",
    "    for var in list(swot_ds_area.keys()):\n",
    "        swot_ds_area[var].encoding = {'zlib':True, 'complevel':5}\n",
    "\n",
    "    filename = \"subset_\"+file[10:]\n",
    "    print(f\"Store subset: {filename}\")\n",
    "    filepath = os.path.join(output_dir, filename)\n",
    "    swot_ds_area.to_netcdf(filepath)\n",
    "        \n",
    "    return filepath\n",
    "\n",
    "\n",
    "def subset_files(filenames, variables, lon_range, lat_range, output_dir):\n",
    "    \"\"\" Subset datasets with geographical area.\n",
    "    Args:\n",
    "        filenames\n",
    "            the filenames of datasets to subset\n",
    "        variables\n",
    "            variables to select\n",
    "        lon_range\n",
    "            the longitude range\n",
    "        lat_range\n",
    "            the latitude range\n",
    "        output_dir\n",
    "            output directory\n",
    "    Returns:\n",
    "        The list of subsets files.\n",
    "    \"\"\"\n",
    "    return [subset_file for subset_file in [_subset_ds(f, variables, lon_range, lat_range, output_dir) for f in filenames] if subset_file is not None]\n",
    "\n",
    "\n",
    "def plot_datasets(filenames, variable, extent=None):\n",
    "    cb_args = dict(\n",
    "        add_colorbar=True,\n",
    "        cbar_kwargs={\"shrink\": 0.3}\n",
    "    )\n",
    "    \n",
    "    plot_kwargs = dict(\n",
    "        x=\"longitude\",\n",
    "        y=\"latitude\",\n",
    "        cmap=\"Spectral_r\",\n",
    "        vmin=-0.2,\n",
    "        vmax=0.2,\n",
    "    )\n",
    "\n",
    "    fig, ax = plt.subplots(figsize=(12, 8), subplot_kw=dict(projection=ccrs.PlateCarree()))\n",
    "    if extent: ax.set_extent(extent)\n",
    "    \n",
    "    for filename in filenames:\n",
    "        ds = xr.open_dataset(filename)\n",
    "        ds[variable].plot.pcolormesh(\n",
    "            ax=ax,\n",
    "            **plot_kwargs,\n",
    "            **cb_args)\n",
    "        cb_args=dict(add_colorbar=False)\n",
    "    \n",
    "    ax.coastlines()\n",
    "    ax.gridlines(draw_labels=True)"
   ]
  },
  {
   "cell_type": "markdown",
   "metadata": {},
   "source": [
    "## Parameters\n",
    "Define **existing** output folder to save results\n",
    "\n"
   ]
  },
  {
   "cell_type": "code",
   "execution_count": null,
   "metadata": {
    "collapsed": false,
    "jupyter": {
     "outputs_hidden": false
    }
   },
   "outputs": [],
   "source": [
    "output_dir = \"downloads\""
   ]
  },
  {
   "cell_type": "markdown",
   "metadata": {},
   "source": [
    "### Authentication parameters\n",
    "Enter your AVISO+ credentials\n",
    "\n"
   ]
  },
  {
   "cell_type": "code",
   "execution_count": null,
   "metadata": {
    "collapsed": false,
    "jupyter": {
     "outputs_hidden": false
    }
   },
   "outputs": [],
   "source": [
    "username = input(\"Enter username:\")"
   ]
  },
  {
   "cell_type": "code",
   "execution_count": null,
   "metadata": {
    "collapsed": false,
    "jupyter": {
     "outputs_hidden": false
    }
   },
   "outputs": [],
   "source": [
    "password = getpass(f\"Enter password for {username}:\")"
   ]
  },
  {
   "cell_type": "markdown",
   "metadata": {},
   "source": [
    "### Data parameters"
   ]
  },
  {
   "cell_type": "markdown",
   "metadata": {},
   "source": [
    "Define a geographical area"
   ]
  },
  {
   "cell_type": "code",
   "execution_count": null,
   "metadata": {},
   "outputs": [],
   "source": [
    "# Mediterranean sea\n",
    "lat_range = 25, 50\n",
    "lon_range = -15, 40\n",
    "localbox = [lon_range[0], lon_range[1], lat_range[0], lat_range[1]]\n",
    "localbox"
   ]
  },
  {
   "cell_type": "markdown",
   "metadata": {},
   "source": [
    "Define the FTP filepath"
   ]
  },
  {
   "cell_type": "code",
   "execution_count": null,
   "metadata": {
    "collapsed": false,
    "jupyter": {
     "outputs_hidden": false
    }
   },
   "outputs": [],
   "source": [
    "ftp_path = '/swot_products/l3_karin_nadir/l3_lr_ssh/v1_0_2/Expert/'\n",
    "\n",
    "# For selecting files with a regex pattern\n",
    "# Basic, Expert, WindWave, Unsmoothed\n",
    "variant = \"Expert\"\n",
    "# L2, L3\n",
    "level = \"L3\""
   ]
  },
  {
   "cell_type": "markdown",
   "metadata": {},
   "source": [
    "Define variables to select"
   ]
  },
  {
   "cell_type": "code",
   "execution_count": null,
   "metadata": {},
   "outputs": [],
   "source": [
    "variables = ['time', 'ssha']"
   ]
  },
  {
   "cell_type": "markdown",
   "metadata": {},
   "source": [
    "Define data parameters"
   ]
  },
  {
   "cell_type": "markdown",
   "metadata": {},
   "source": [
    "<div class=\"alert alert-info\"><b>Note</b><p>Passes matching a geographical area and period can be found using this [tutorial](https://swot-community.github.io/SWOT-galleries/SWOT-Oceanography/ex_search_swot.html)</p></div>"
   ]
  },
  {
   "cell_type": "code",
   "execution_count": null,
   "metadata": {
    "collapsed": false,
    "jupyter": {
     "outputs_hidden": false
    }
   },
   "outputs": [],
   "source": [
    "# Define cycles and half_orbits numbers to download\n",
    "cycle_numbers = [19]\n",
    "pass_numbers = [1, 2, 29, 70, 98, 236, 376]"
   ]
  },
  {
   "cell_type": "markdown",
   "metadata": {},
   "source": [
    "## Download files through FTP"
   ]
  },
  {
   "cell_type": "code",
   "execution_count": null,
   "metadata": {
    "collapsed": false,
    "jupyter": {
     "outputs_hidden": false
    }
   },
   "outputs": [],
   "source": [
    "downloaded_files = ftp_download_files(ftp_path, level, variant, cycle_numbers, pass_numbers, output_dir, only_last=True)"
   ]
  },
  {
   "cell_type": "code",
   "execution_count": null,
   "metadata": {},
   "outputs": [],
   "source": [
    "downloaded_files"
   ]
  },
  {
   "cell_type": "markdown",
   "metadata": {},
   "source": [
    "### Plot downloaded half orbits"
   ]
  },
  {
   "cell_type": "code",
   "execution_count": null,
   "metadata": {},
   "outputs": [],
   "source": [
    "plot_datasets(downloaded_files, 'ssha', extent=[-180, 180, -80, 80])"
   ]
  },
  {
   "cell_type": "markdown",
   "metadata": {},
   "source": [
    "## Subset data"
   ]
  },
  {
   "cell_type": "code",
   "execution_count": null,
   "metadata": {},
   "outputs": [],
   "source": [
    "subset_filenames = subset_files(downloaded_files, variables, lon_range, lat_range, output_dir)"
   ]
  },
  {
   "cell_type": "code",
   "execution_count": null,
   "metadata": {},
   "outputs": [],
   "source": [
    "subset_filenames"
   ]
  },
  {
   "cell_type": "markdown",
   "metadata": {},
   "source": [
    "### Plot subsets"
   ]
  },
  {
   "cell_type": "code",
   "execution_count": null,
   "metadata": {},
   "outputs": [],
   "source": [
    "plot_datasets(subset_filenames, 'ssha', extent=localbox)"
   ]
  }
 ],
 "metadata": {
  "kernelspec": {
   "display_name": "MYENV",
   "language": "python",
   "name": "myenv"
  },
  "language_info": {
   "codemirror_mode": {
    "name": "ipython",
    "version": 3
   },
   "file_extension": ".py",
   "mimetype": "text/x-python",
   "name": "python",
   "nbconvert_exporter": "python",
   "pygments_lexer": "ipython3",
   "version": "3.10.9"
  }
 },
 "nbformat": 4,
 "nbformat_minor": 4
}
